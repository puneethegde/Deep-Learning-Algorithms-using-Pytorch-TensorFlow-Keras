{
  "nbformat": 4,
  "nbformat_minor": 0,
  "metadata": {
    "colab": {
      "provenance": []
    },
    "kernelspec": {
      "name": "python3",
      "display_name": "Python 3"
    },
    "language_info": {
      "name": "python"
    }
  },
  "cells": [
    {
      "cell_type": "code",
      "execution_count": null,
      "metadata": {
        "id": "Wa1ZF-ytNhgb"
      },
      "outputs": [],
      "source": [
        "import keras\n",
        "from keras import layers\n",
        "\n",
        "# This is the size of our encoded representations\n",
        "encoding_dim = 32  # 32 floats -> compression of factor 24.5, assuming the input is 784 floats\n",
        "\n",
        "# This is our input image\n",
        "input_img = keras.Input(shape=(784,))\n",
        "# \"encoded\" is the encoded representation of the input\n",
        "encoded = layers.Dense(encoding_dim, activation='relu')(input_img)\n",
        "# \"decoded\" is the lossy reconstruction of the input\n",
        "decoded = layers.Dense(784, activation='sigmoid')(encoded)\n",
        "\n",
        "# This model maps an input to its reconstruction\n",
        "autoencoder = keras.Model(input_img, decoded)"
      ]
    },
    {
      "cell_type": "code",
      "source": [
        "# This model maps an input to its encoded representation\n",
        "encoder = keras.Model(input_img, encoded)"
      ],
      "metadata": {
        "id": "B0K62nGKNrK0"
      },
      "execution_count": null,
      "outputs": []
    },
    {
      "cell_type": "code",
      "source": [
        "# This is our encoded (32-dimensional) input\n",
        "encoded_input = keras.Input(shape=(encoding_dim,))\n",
        "# Retrieve the last layer of the autoencoder model\n",
        "decoder_layer = autoencoder.layers[-1]\n",
        "# Create the decoder model\n",
        "decoder = keras.Model(encoded_input, decoder_layer(encoded_input))"
      ],
      "metadata": {
        "id": "-_RjUB7nNv6G"
      },
      "execution_count": null,
      "outputs": []
    },
    {
      "cell_type": "code",
      "source": [
        "autoencoder.compile(optimizer='adam', loss='binary_crossentropy')\n"
      ],
      "metadata": {
        "id": "Frd5LQ6KNzdy"
      },
      "execution_count": null,
      "outputs": []
    },
    {
      "cell_type": "code",
      "source": [
        "from keras.datasets import mnist\n",
        "import numpy as np\n",
        "(x_train, _), (x_test, _) = mnist.load_data()"
      ],
      "metadata": {
        "colab": {
          "base_uri": "https://localhost:8080/"
        },
        "id": "hHf_CcjuN2Mn",
        "outputId": "fd01f44b-ff05-4e93-bca3-abf832626217"
      },
      "execution_count": null,
      "outputs": [
        {
          "output_type": "stream",
          "name": "stdout",
          "text": [
            "Downloading data from https://storage.googleapis.com/tensorflow/tf-keras-datasets/mnist.npz\n",
            "11490434/11490434 [==============================] - 0s 0us/step\n"
          ]
        }
      ]
    },
    {
      "cell_type": "code",
      "source": [
        "x_train = x_train.astype('float32') / 255.\n",
        "x_test = x_test.astype('float32') / 255.\n",
        "x_train = x_train.reshape((len(x_train), np.prod(x_train.shape[1:])))\n",
        "x_test = x_test.reshape((len(x_test), np.prod(x_test.shape[1:])))\n",
        "print(x_train.shape)\n",
        "print(x_test.shape)"
      ],
      "metadata": {
        "colab": {
          "base_uri": "https://localhost:8080/"
        },
        "id": "L4Hq69i0N6Yd",
        "outputId": "04aa6362-bd56-4904-c28e-a61e09abfe6f"
      },
      "execution_count": null,
      "outputs": [
        {
          "output_type": "stream",
          "name": "stdout",
          "text": [
            "(60000, 784)\n",
            "(10000, 784)\n"
          ]
        }
      ]
    },
    {
      "cell_type": "code",
      "source": [
        "autoencoder.fit(x_train, x_train,\n",
        "                epochs=50,\n",
        "                batch_size=256,\n",
        "                shuffle=True,\n",
        "                validation_data=(x_test, x_test))"
      ],
      "metadata": {
        "colab": {
          "base_uri": "https://localhost:8080/"
        },
        "id": "QI_dLeIWN88A",
        "outputId": "e2a69917-777b-4cb2-b159-f4f635ab9bf9"
      },
      "execution_count": null,
      "outputs": [
        {
          "output_type": "stream",
          "name": "stdout",
          "text": [
            "Epoch 1/50\n",
            "235/235 [==============================] - 4s 13ms/step - loss: 0.2764 - val_loss: 0.1910\n",
            "Epoch 2/50\n",
            "235/235 [==============================] - 2s 8ms/step - loss: 0.1719 - val_loss: 0.1550\n",
            "Epoch 3/50\n",
            "235/235 [==============================] - 3s 11ms/step - loss: 0.1452 - val_loss: 0.1341\n",
            "Epoch 4/50\n",
            "235/235 [==============================] - 3s 11ms/step - loss: 0.1291 - val_loss: 0.1220\n",
            "Epoch 5/50\n",
            "235/235 [==============================] - 2s 9ms/step - loss: 0.1192 - val_loss: 0.1139\n",
            "Epoch 6/50\n",
            "235/235 [==============================] - 2s 9ms/step - loss: 0.1119 - val_loss: 0.1079\n",
            "Epoch 7/50\n",
            "235/235 [==============================] - 2s 9ms/step - loss: 0.1067 - val_loss: 0.1033\n",
            "Epoch 8/50\n",
            "235/235 [==============================] - 2s 10ms/step - loss: 0.1028 - val_loss: 0.1000\n",
            "Epoch 9/50\n",
            "235/235 [==============================] - 3s 11ms/step - loss: 0.0999 - val_loss: 0.0974\n",
            "Epoch 10/50\n",
            "235/235 [==============================] - 2s 10ms/step - loss: 0.0979 - val_loss: 0.0958\n",
            "Epoch 11/50\n",
            "235/235 [==============================] - 2s 9ms/step - loss: 0.0965 - val_loss: 0.0947\n",
            "Epoch 12/50\n",
            "235/235 [==============================] - 2s 10ms/step - loss: 0.0956 - val_loss: 0.0939\n",
            "Epoch 13/50\n",
            "235/235 [==============================] - 2s 10ms/step - loss: 0.0950 - val_loss: 0.0935\n",
            "Epoch 14/50\n",
            "235/235 [==============================] - 3s 11ms/step - loss: 0.0946 - val_loss: 0.0931\n",
            "Epoch 15/50\n",
            "235/235 [==============================] - 2s 9ms/step - loss: 0.0943 - val_loss: 0.0929\n",
            "Epoch 16/50\n",
            "235/235 [==============================] - 2s 9ms/step - loss: 0.0941 - val_loss: 0.0927\n",
            "Epoch 17/50\n",
            "235/235 [==============================] - 2s 9ms/step - loss: 0.0939 - val_loss: 0.0927\n",
            "Epoch 18/50\n",
            "235/235 [==============================] - 2s 9ms/step - loss: 0.0938 - val_loss: 0.0924\n",
            "Epoch 19/50\n",
            "235/235 [==============================] - 3s 11ms/step - loss: 0.0937 - val_loss: 0.0923\n",
            "Epoch 20/50\n",
            "235/235 [==============================] - 2s 9ms/step - loss: 0.0936 - val_loss: 0.0922\n",
            "Epoch 21/50\n",
            "235/235 [==============================] - 2s 9ms/step - loss: 0.0935 - val_loss: 0.0922\n",
            "Epoch 22/50\n",
            "235/235 [==============================] - 2s 9ms/step - loss: 0.0934 - val_loss: 0.0921\n",
            "Epoch 23/50\n",
            "235/235 [==============================] - 2s 8ms/step - loss: 0.0934 - val_loss: 0.0921\n",
            "Epoch 24/50\n",
            "235/235 [==============================] - 2s 10ms/step - loss: 0.0933 - val_loss: 0.0920\n",
            "Epoch 25/50\n",
            "235/235 [==============================] - 2s 10ms/step - loss: 0.0933 - val_loss: 0.0920\n",
            "Epoch 26/50\n",
            "235/235 [==============================] - 2s 9ms/step - loss: 0.0932 - val_loss: 0.0919\n",
            "Epoch 27/50\n",
            "235/235 [==============================] - 2s 9ms/step - loss: 0.0932 - val_loss: 0.0919\n",
            "Epoch 28/50\n",
            "235/235 [==============================] - 2s 8ms/step - loss: 0.0931 - val_loss: 0.0919\n",
            "Epoch 29/50\n",
            "235/235 [==============================] - 2s 9ms/step - loss: 0.0931 - val_loss: 0.0918\n",
            "Epoch 30/50\n",
            "235/235 [==============================] - 3s 12ms/step - loss: 0.0931 - val_loss: 0.0918\n",
            "Epoch 31/50\n",
            "235/235 [==============================] - 2s 10ms/step - loss: 0.0930 - val_loss: 0.0918\n",
            "Epoch 32/50\n",
            "235/235 [==============================] - 2s 9ms/step - loss: 0.0930 - val_loss: 0.0918\n",
            "Epoch 33/50\n",
            "235/235 [==============================] - 2s 9ms/step - loss: 0.0930 - val_loss: 0.0918\n",
            "Epoch 34/50\n",
            "235/235 [==============================] - 2s 9ms/step - loss: 0.0930 - val_loss: 0.0918\n",
            "Epoch 35/50\n",
            "235/235 [==============================] - 3s 12ms/step - loss: 0.0929 - val_loss: 0.0917\n",
            "Epoch 36/50\n",
            "235/235 [==============================] - 2s 10ms/step - loss: 0.0929 - val_loss: 0.0919\n",
            "Epoch 37/50\n",
            "235/235 [==============================] - 2s 9ms/step - loss: 0.0929 - val_loss: 0.0917\n",
            "Epoch 38/50\n",
            "235/235 [==============================] - 2s 9ms/step - loss: 0.0929 - val_loss: 0.0919\n",
            "Epoch 39/50\n",
            "235/235 [==============================] - 2s 8ms/step - loss: 0.0929 - val_loss: 0.0917\n",
            "Epoch 40/50\n",
            "235/235 [==============================] - 2s 9ms/step - loss: 0.0928 - val_loss: 0.0917\n",
            "Epoch 41/50\n",
            "235/235 [==============================] - 3s 11ms/step - loss: 0.0928 - val_loss: 0.0916\n",
            "Epoch 42/50\n",
            "235/235 [==============================] - 2s 8ms/step - loss: 0.0928 - val_loss: 0.0916\n",
            "Epoch 43/50\n",
            "235/235 [==============================] - 2s 9ms/step - loss: 0.0928 - val_loss: 0.0916\n",
            "Epoch 44/50\n",
            "235/235 [==============================] - 2s 9ms/step - loss: 0.0928 - val_loss: 0.0917\n",
            "Epoch 45/50\n",
            "235/235 [==============================] - 2s 8ms/step - loss: 0.0928 - val_loss: 0.0916\n",
            "Epoch 46/50\n",
            "235/235 [==============================] - 3s 11ms/step - loss: 0.0927 - val_loss: 0.0916\n",
            "Epoch 47/50\n",
            "235/235 [==============================] - 2s 8ms/step - loss: 0.0927 - val_loss: 0.0916\n",
            "Epoch 48/50\n",
            "235/235 [==============================] - 2s 9ms/step - loss: 0.0927 - val_loss: 0.0916\n",
            "Epoch 49/50\n",
            "235/235 [==============================] - 2s 9ms/step - loss: 0.0927 - val_loss: 0.0916\n",
            "Epoch 50/50\n",
            "235/235 [==============================] - 2s 9ms/step - loss: 0.0927 - val_loss: 0.0916\n"
          ]
        },
        {
          "output_type": "execute_result",
          "data": {
            "text/plain": [
              "<keras.callbacks.History at 0x7fd09c927d00>"
            ]
          },
          "metadata": {},
          "execution_count": 7
        }
      ]
    },
    {
      "cell_type": "code",
      "source": [
        "# Encode and decode some digits\n",
        "# Note that we take them from the *test* set\n",
        "encoded_imgs = encoder.predict(x_test)\n",
        "decoded_imgs = decoder.predict(encoded_imgs)"
      ],
      "metadata": {
        "colab": {
          "base_uri": "https://localhost:8080/"
        },
        "id": "TQLmvNTcOt6A",
        "outputId": "e60e3690-afa6-4120-efd7-379de6b4d696"
      },
      "execution_count": null,
      "outputs": [
        {
          "output_type": "stream",
          "name": "stdout",
          "text": [
            "313/313 [==============================] - 0s 934us/step\n",
            "313/313 [==============================] - 0s 993us/step\n"
          ]
        }
      ]
    },
    {
      "cell_type": "code",
      "source": [
        "# Use Matplotlib (don't ask)\n",
        "import matplotlib.pyplot as plt\n",
        "\n",
        "n = 10  # How many digits we will display\n",
        "plt.figure(figsize=(20, 4))\n",
        "for i in range(n):\n",
        "    # Display original\n",
        "    ax = plt.subplot(2, n, i + 1)\n",
        "    plt.imshow(x_test[i].reshape(28, 28))\n",
        "    plt.gray()\n",
        "    ax.get_xaxis().set_visible(False)\n",
        "    ax.get_yaxis().set_visible(False)\n",
        "\n",
        "    # Display reconstruction\n",
        "    ax = plt.subplot(2, n, i + 1 + n)\n",
        "    plt.imshow(decoded_imgs[i].reshape(28, 28))\n",
        "    plt.gray()\n",
        "    ax.get_xaxis().set_visible(False)\n",
        "    ax.get_yaxis().set_visible(False)\n",
        "plt.show()"
      ],
      "metadata": {
        "colab": {
          "base_uri": "https://localhost:8080/",
          "height": 305
        },
        "id": "oGf1IIagOAR8",
        "outputId": "f34afb79-e863-4bd7-90eb-2c999cc83610"
      },
      "execution_count": null,
      "outputs": [
        {
          "output_type": "display_data",
          "data": {
            "text/plain": [
              "<Figure size 2000x400 with 20 Axes>"
            ],
            "image/png": "[encoded data removed]"
          },
          "metadata": {}
        }
      ]
    },
    {
      "cell_type": "code",
      "source": [
        "from keras import regularizers\n",
        "\n",
        "encoding_dim = 32\n",
        "\n",
        "input_img = keras.Input(shape=(784,))\n",
        "# Add a Dense layer with a L1 activity regularizer\n",
        "encoded = layers.Dense(encoding_dim, activation='relu',\n",
        "                activity_regularizer=regularizers.l1(10e-5))(input_img)\n",
        "decoded = layers.Dense(784, activation='sigmoid')(encoded)\n",
        "\n",
        "autoencoder = keras.Model(input_img, decoded)"
      ],
      "metadata": {
        "id": "PnJJ_QeHO0TB"
      },
      "execution_count": null,
      "outputs": []
    },
    {
      "cell_type": "code",
      "source": [
        "input_img = keras.Input(shape=(784,))\n",
        "encoded = layers.Dense(128, activation='relu')(input_img)\n",
        "encoded = layers.Dense(64, activation='relu')(encoded)\n",
        "encoded = layers.Dense(32, activation='relu')(encoded)\n",
        "\n",
        "decoded = layers.Dense(64, activation='relu')(encoded)\n",
        "decoded = layers.Dense(128, activation='relu')(decoded)\n",
        "decoded = layers.Dense(784, activation='sigmoid')(decoded)"
      ],
      "metadata": {
        "id": "UkFvPiTSO-35"
      },
      "execution_count": null,
      "outputs": []
    },
    {
      "cell_type": "code",
      "source": [
        "autoencoder = keras.Model(input_img, decoded)\n",
        "autoencoder.compile(optimizer='adam', loss='binary_crossentropy')\n",
        "\n",
        "autoencoder.fit(x_train, x_train,\n",
        "                epochs=100,\n",
        "                batch_size=256,\n",
        "                shuffle=True,\n",
        "                validation_data=(x_test, x_test))"
      ],
      "metadata": {
        "colab": {
          "base_uri": "https://localhost:8080/"
        },
        "id": "1VnX84VdPDYq",
        "outputId": "fe4e7402-bc98-4a60-a1a2-8865ba2c6f0d"
      },
      "execution_count": null,
      "outputs": [
        {
          "output_type": "stream",
          "name": "stdout",
          "text": [
            "Epoch 1/100\n",
            "235/235 [==============================] - 4s 14ms/step - loss: 0.2408 - val_loss: 0.1628\n",
            "Epoch 2/100\n",
            "235/235 [==============================] - 3s 13ms/step - loss: 0.1469 - val_loss: 0.1341\n",
            "Epoch 3/100\n",
            "235/235 [==============================] - 4s 16ms/step - loss: 0.1289 - val_loss: 0.1215\n",
            "Epoch 4/100\n",
            "235/235 [==============================] - 4s 15ms/step - loss: 0.1195 - val_loss: 0.1149\n",
            "Epoch 5/100\n",
            "235/235 [==============================] - 4s 19ms/step - loss: 0.1141 - val_loss: 0.1104\n",
            "Epoch 6/100\n",
            "235/235 [==============================] - 4s 15ms/step - loss: 0.1103 - val_loss: 0.1077\n",
            "Epoch 7/100\n",
            "235/235 [==============================] - 5s 20ms/step - loss: 0.1077 - val_loss: 0.1054\n",
            "Epoch 8/100\n",
            "235/235 [==============================] - 5s 21ms/step - loss: 0.1056 - val_loss: 0.1035\n",
            "Epoch 9/100\n",
            "235/235 [==============================] - 5s 19ms/step - loss: 0.1037 - val_loss: 0.1025\n",
            "Epoch 10/100\n",
            "235/235 [==============================] - 3s 14ms/step - loss: 0.1019 - val_loss: 0.0999\n",
            "Epoch 11/100\n",
            "235/235 [==============================] - 6s 24ms/step - loss: 0.1005 - val_loss: 0.0986\n",
            "Epoch 12/100\n",
            "235/235 [==============================] - 3s 13ms/step - loss: 0.0992 - val_loss: 0.0972\n",
            "Epoch 13/100\n",
            "235/235 [==============================] - 4s 16ms/step - loss: 0.0980 - val_loss: 0.0966\n",
            "Epoch 14/100\n",
            "235/235 [==============================] - 3s 14ms/step - loss: 0.0971 - val_loss: 0.0955\n",
            "Epoch 15/100\n",
            "235/235 [==============================] - 4s 16ms/step - loss: 0.0961 - val_loss: 0.0946\n",
            "Epoch 16/100\n",
            "235/235 [==============================] - 4s 16ms/step - loss: 0.0953 - val_loss: 0.0942\n",
            "Epoch 17/100\n",
            "235/235 [==============================] - 3s 13ms/step - loss: 0.0946 - val_loss: 0.0934\n",
            "Epoch 18/100\n",
            "235/235 [==============================] - 4s 16ms/step - loss: 0.0939 - val_loss: 0.0929\n",
            "Epoch 19/100\n",
            "235/235 [==============================] - 4s 17ms/step - loss: 0.0934 - val_loss: 0.0921\n",
            "Epoch 20/100\n",
            "235/235 [==============================] - 3s 13ms/step - loss: 0.0927 - val_loss: 0.0919\n",
            "Epoch 21/100\n",
            "235/235 [==============================] - 4s 18ms/step - loss: 0.0923 - val_loss: 0.0916\n",
            "Epoch 22/100\n",
            "235/235 [==============================] - 4s 16ms/step - loss: 0.0917 - val_loss: 0.0906\n",
            "Epoch 23/100\n",
            "235/235 [==============================] - 4s 17ms/step - loss: 0.0913 - val_loss: 0.0905\n",
            "Epoch 24/100\n",
            "235/235 [==============================] - 7s 29ms/step - loss: 0.0909 - val_loss: 0.0899\n",
            "Epoch 25/100\n",
            "235/235 [==============================] - 4s 16ms/step - loss: 0.0906 - val_loss: 0.0898\n",
            "Epoch 26/100\n",
            "235/235 [==============================] - 6s 24ms/step - loss: 0.0902 - val_loss: 0.0891\n",
            "Epoch 27/100\n",
            "235/235 [==============================] - 4s 18ms/step - loss: 0.0899 - val_loss: 0.0893\n",
            "Epoch 28/100\n",
            "235/235 [==============================] - 3s 14ms/step - loss: 0.0897 - val_loss: 0.0890\n",
            "Epoch 29/100\n",
            "235/235 [==============================] - 6s 26ms/step - loss: 0.0894 - val_loss: 0.0889\n",
            "Epoch 30/100\n",
            "235/235 [==============================] - 4s 17ms/step - loss: 0.0892 - val_loss: 0.0885\n",
            "Epoch 31/100\n",
            "235/235 [==============================] - 5s 20ms/step - loss: 0.0890 - val_loss: 0.0883\n",
            "Epoch 32/100\n",
            "235/235 [==============================] - 4s 16ms/step - loss: 0.0888 - val_loss: 0.0881\n",
            "Epoch 33/100\n",
            "235/235 [==============================] - 4s 17ms/step - loss: 0.0885 - val_loss: 0.0878\n",
            "Epoch 34/100\n",
            "235/235 [==============================] - 3s 14ms/step - loss: 0.0884 - val_loss: 0.0879\n",
            "Epoch 35/100\n",
            "235/235 [==============================] - 5s 20ms/step - loss: 0.0882 - val_loss: 0.0880\n",
            "Epoch 36/100\n",
            "235/235 [==============================] - 3s 14ms/step - loss: 0.0880 - val_loss: 0.0873\n",
            "Epoch 37/100\n",
            "235/235 [==============================] - 3s 14ms/step - loss: 0.0879 - val_loss: 0.0871\n",
            "Epoch 38/100\n",
            "235/235 [==============================] - 5s 21ms/step - loss: 0.0878 - val_loss: 0.0874\n",
            "Epoch 39/100\n",
            "235/235 [==============================] - 4s 18ms/step - loss: 0.0877 - val_loss: 0.0872\n",
            "Epoch 40/100\n",
            "235/235 [==============================] - 3s 13ms/step - loss: 0.0875 - val_loss: 0.0872\n",
            "Epoch 41/100\n",
            "235/235 [==============================] - 4s 18ms/step - loss: 0.0874 - val_loss: 0.0868\n",
            "Epoch 42/100\n",
            "235/235 [==============================] - 4s 16ms/step - loss: 0.0873 - val_loss: 0.0865\n",
            "Epoch 43/100\n",
            "235/235 [==============================] - 5s 21ms/step - loss: 0.0871 - val_loss: 0.0865\n",
            "Epoch 44/100\n",
            "235/235 [==============================] - 5s 22ms/step - loss: 0.0870 - val_loss: 0.0867\n",
            "Epoch 45/100\n",
            "235/235 [==============================] - 4s 16ms/step - loss: 0.0869 - val_loss: 0.0863\n",
            "Epoch 46/100\n",
            "235/235 [==============================] - 3s 14ms/step - loss: 0.0868 - val_loss: 0.0862\n",
            "Epoch 47/100\n",
            "235/235 [==============================] - 5s 20ms/step - loss: 0.0867 - val_loss: 0.0865\n",
            "Epoch 48/100\n",
            "235/235 [==============================] - 3s 14ms/step - loss: 0.0867 - val_loss: 0.0861\n",
            "Epoch 49/100\n",
            "235/235 [==============================] - 3s 14ms/step - loss: 0.0865 - val_loss: 0.0860\n",
            "Epoch 50/100\n",
            "235/235 [==============================] - 3s 14ms/step - loss: 0.0864 - val_loss: 0.0860\n",
            "Epoch 51/100\n",
            "235/235 [==============================] - 4s 16ms/step - loss: 0.0863 - val_loss: 0.0862\n",
            "Epoch 52/100\n",
            "235/235 [==============================] - 3s 14ms/step - loss: 0.0862 - val_loss: 0.0857\n",
            "Epoch 53/100\n",
            "235/235 [==============================] - 3s 15ms/step - loss: 0.0862 - val_loss: 0.0857\n",
            "Epoch 54/100\n",
            "235/235 [==============================] - 4s 16ms/step - loss: 0.0861 - val_loss: 0.0857\n",
            "Epoch 55/100\n",
            "235/235 [==============================] - 3s 13ms/step - loss: 0.0860 - val_loss: 0.0855\n",
            "Epoch 56/100\n",
            "235/235 [==============================] - 3s 14ms/step - loss: 0.0859 - val_loss: 0.0855\n",
            "Epoch 57/100\n",
            "235/235 [==============================] - 3s 14ms/step - loss: 0.0859 - val_loss: 0.0853\n",
            "Epoch 58/100\n",
            "235/235 [==============================] - 4s 16ms/step - loss: 0.0858 - val_loss: 0.0854\n",
            "Epoch 59/100\n",
            "235/235 [==============================] - 3s 13ms/step - loss: 0.0857 - val_loss: 0.0854\n",
            "Epoch 60/100\n",
            "235/235 [==============================] - 3s 14ms/step - loss: 0.0856 - val_loss: 0.0852\n",
            "Epoch 61/100\n",
            "235/235 [==============================] - 4s 16ms/step - loss: 0.0855 - val_loss: 0.0853\n",
            "Epoch 62/100\n",
            "235/235 [==============================] - 3s 14ms/step - loss: 0.0855 - val_loss: 0.0854\n",
            "Epoch 63/100\n",
            "235/235 [==============================] - 3s 14ms/step - loss: 0.0855 - val_loss: 0.0851\n",
            "Epoch 64/100\n",
            "235/235 [==============================] - 3s 14ms/step - loss: 0.0854 - val_loss: 0.0850\n",
            "Epoch 65/100\n",
            "235/235 [==============================] - 4s 16ms/step - loss: 0.0853 - val_loss: 0.0852\n",
            "Epoch 66/100\n",
            "235/235 [==============================] - 3s 14ms/step - loss: 0.0853 - val_loss: 0.0850\n",
            "Epoch 67/100\n",
            "235/235 [==============================] - 3s 14ms/step - loss: 0.0852 - val_loss: 0.0850\n",
            "Epoch 68/100\n",
            "235/235 [==============================] - 4s 17ms/step - loss: 0.0852 - val_loss: 0.0850\n",
            "Epoch 69/100\n",
            "235/235 [==============================] - 3s 13ms/step - loss: 0.0852 - val_loss: 0.0848\n",
            "Epoch 70/100\n",
            "235/235 [==============================] - 3s 13ms/step - loss: 0.0851 - val_loss: 0.0851\n",
            "Epoch 71/100\n",
            "235/235 [==============================] - 3s 14ms/step - loss: 0.0850 - val_loss: 0.0847\n",
            "Epoch 72/100\n",
            "235/235 [==============================] - 4s 16ms/step - loss: 0.0850 - val_loss: 0.0849\n",
            "Epoch 73/100\n",
            "235/235 [==============================] - 4s 15ms/step - loss: 0.0850 - val_loss: 0.0846\n",
            "Epoch 74/100\n",
            "235/235 [==============================] - 3s 14ms/step - loss: 0.0849 - val_loss: 0.0848\n",
            "Epoch 75/100\n",
            "235/235 [==============================] - 4s 16ms/step - loss: 0.0849 - val_loss: 0.0847\n",
            "Epoch 76/100\n",
            "235/235 [==============================] - 3s 14ms/step - loss: 0.0849 - val_loss: 0.0846\n",
            "Epoch 77/100\n",
            "235/235 [==============================] - 3s 13ms/step - loss: 0.0848 - val_loss: 0.0846\n",
            "Epoch 78/100\n",
            "235/235 [==============================] - 3s 13ms/step - loss: 0.0848 - val_loss: 0.0847\n",
            "Epoch 79/100\n",
            "235/235 [==============================] - 4s 16ms/step - loss: 0.0848 - val_loss: 0.0847\n",
            "Epoch 80/100\n",
            "235/235 [==============================] - 3s 13ms/step - loss: 0.0847 - val_loss: 0.0843\n",
            "Epoch 81/100\n",
            "235/235 [==============================] - 3s 14ms/step - loss: 0.0847 - val_loss: 0.0845\n",
            "Epoch 82/100\n",
            "235/235 [==============================] - 4s 15ms/step - loss: 0.0847 - val_loss: 0.0843\n",
            "Epoch 83/100\n",
            "235/235 [==============================] - 4s 15ms/step - loss: 0.0846 - val_loss: 0.0846\n",
            "Epoch 84/100\n",
            "235/235 [==============================] - 4s 15ms/step - loss: 0.0845 - val_loss: 0.0845\n",
            "Epoch 85/100\n",
            "235/235 [==============================] - 3s 13ms/step - loss: 0.0845 - val_loss: 0.0844\n",
            "Epoch 86/100\n",
            "235/235 [==============================] - 4s 16ms/step - loss: 0.0845 - val_loss: 0.0843\n",
            "Epoch 87/100\n",
            "235/235 [==============================] - 3s 14ms/step - loss: 0.0845 - val_loss: 0.0844\n",
            "Epoch 88/100\n",
            "235/235 [==============================] - 3s 14ms/step - loss: 0.0845 - val_loss: 0.0842\n",
            "Epoch 89/100\n",
            "235/235 [==============================] - 4s 15ms/step - loss: 0.0844 - val_loss: 0.0841\n",
            "Epoch 90/100\n",
            "235/235 [==============================] - 3s 15ms/step - loss: 0.0844 - val_loss: 0.0841\n",
            "Epoch 91/100\n",
            "235/235 [==============================] - 3s 13ms/step - loss: 0.0844 - val_loss: 0.0841\n",
            "Epoch 92/100\n",
            "235/235 [==============================] - 3s 14ms/step - loss: 0.0843 - val_loss: 0.0844\n",
            "Epoch 93/100\n",
            "235/235 [==============================] - 4s 17ms/step - loss: 0.0843 - val_loss: 0.0840\n",
            "Epoch 94/100\n",
            "235/235 [==============================] - 3s 14ms/step - loss: 0.0843 - val_loss: 0.0839\n",
            "Epoch 95/100\n",
            "235/235 [==============================] - 3s 13ms/step - loss: 0.0842 - val_loss: 0.0839\n",
            "Epoch 96/100\n",
            "235/235 [==============================] - 3s 14ms/step - loss: 0.0842 - val_loss: 0.0842\n",
            "Epoch 97/100\n",
            "235/235 [==============================] - 4s 17ms/step - loss: 0.0842 - val_loss: 0.0838\n",
            "Epoch 98/100\n",
            "235/235 [==============================] - 3s 14ms/step - loss: 0.0842 - val_loss: 0.0839\n",
            "Epoch 99/100\n",
            "235/235 [==============================] - 3s 14ms/step - loss: 0.0841 - val_loss: 0.0840\n",
            "Epoch 100/100\n",
            "235/235 [==============================] - 4s 16ms/step - loss: 0.0841 - val_loss: 0.0839\n"
          ]
        },
        {
          "output_type": "execute_result",
          "data": {
            "text/plain": [
              "<keras.callbacks.History at 0x7fd09c9de290>"
            ]
          },
          "metadata": {},
          "execution_count": 13
        }
      ]
    },
    {
      "cell_type": "code",
      "source": [
        "import keras\n",
        "from keras import layers\n",
        "\n",
        "input_img = keras.Input(shape=(28, 28, 1))\n",
        "\n",
        "x = layers.Conv2D(16, (3, 3), activation='relu', padding='same')(input_img)\n",
        "x = layers.MaxPooling2D((2, 2), padding='same')(x)\n",
        "x = layers.Conv2D(8, (3, 3), activation='relu', padding='same')(x)\n",
        "x = layers.MaxPooling2D((2, 2), padding='same')(x)\n",
        "x = layers.Conv2D(8, (3, 3), activation='relu', padding='same')(x)\n",
        "encoded = layers.MaxPooling2D((2, 2), padding='same')(x)\n",
        "\n",
        "# at this point the representation is (4, 4, 8) i.e. 128-dimensional\n",
        "\n",
        "x = layers.Conv2D(8, (3, 3), activation='relu', padding='same')(encoded)\n",
        "x = layers.UpSampling2D((2, 2))(x)\n",
        "x = layers.Conv2D(8, (3, 3), activation='relu', padding='same')(x)\n",
        "x = layers.UpSampling2D((2, 2))(x)\n",
        "x = layers.Conv2D(16, (3, 3), activation='relu')(x)\n",
        "x = layers.UpSampling2D((2, 2))(x)\n",
        "decoded = layers.Conv2D(1, (3, 3), activation='sigmoid', padding='same')(x)\n",
        "\n",
        "autoencoder = keras.Model(input_img, decoded)\n",
        "autoencoder.compile(optimizer='adam', loss='binary_crossentropy')"
      ],
      "metadata": {
        "id": "mEgpxHIdPHKF"
      },
      "execution_count": null,
      "outputs": []
    },
    {
      "cell_type": "code",
      "source": [
        "from keras.datasets import mnist\n",
        "import numpy as np\n",
        "\n",
        "(x_train, _), (x_test, _) = mnist.load_data()\n",
        "\n",
        "x_train = x_train.astype('float32') / 255.\n",
        "x_test = x_test.astype('float32') / 255.\n",
        "x_train = np.reshape(x_train, (len(x_train), 28, 28, 1))\n",
        "x_test = np.reshape(x_test, (len(x_test), 28, 28, 1))"
      ],
      "metadata": {
        "id": "miw6ojwVPJrO"
      },
      "execution_count": null,
      "outputs": []
    },
    {
      "cell_type": "code",
      "source": [
        "from keras.callbacks import TensorBoard\n",
        "\n",
        "autoencoder.fit(x_train, x_train,\n",
        "                epochs=50,\n",
        "                batch_size=128,\n",
        "                shuffle=True,\n",
        "                validation_data=(x_test, x_test),\n",
        "                callbacks=[TensorBoard(log_dir='/tmp/autoencoder')])"
      ],
      "metadata": {
        "colab": {
          "base_uri": "https://localhost:8080/"
        },
        "id": "_LhlEdHUPNsu",
        "outputId": "d9b65de3-26d4-45b7-a02d-207241c3eaff"
      },
      "execution_count": null,
      "outputs": [
        {
          "output_type": "stream",
          "name": "stdout",
          "text": [
            "Epoch 1/50\n",
            "469/469 [==============================] - 62s 129ms/step - loss: 0.2245 - val_loss: 0.1472\n",
            "Epoch 2/50\n",
            "469/469 [==============================] - 59s 125ms/step - loss: 0.1369 - val_loss: 0.1276\n",
            "Epoch 3/50\n",
            "469/469 [==============================] - 57s 123ms/step - loss: 0.1240 - val_loss: 0.1194\n",
            "Epoch 4/50\n",
            "469/469 [==============================] - 58s 124ms/step - loss: 0.1176 - val_loss: 0.1148\n",
            "Epoch 5/50\n",
            "469/469 [==============================] - 59s 126ms/step - loss: 0.1135 - val_loss: 0.1111\n",
            "Epoch 6/50\n",
            "469/469 [==============================] - 62s 131ms/step - loss: 0.1104 - val_loss: 0.1083\n",
            "Epoch 7/50\n",
            "469/469 [==============================] - 59s 127ms/step - loss: 0.1081 - val_loss: 0.1063\n",
            "Epoch 8/50\n",
            "469/469 [==============================] - 61s 129ms/step - loss: 0.1062 - val_loss: 0.1049\n",
            "Epoch 9/50\n",
            "469/469 [==============================] - 60s 128ms/step - loss: 0.1047 - val_loss: 0.1033\n",
            "Epoch 10/50\n",
            "469/469 [==============================] - 59s 126ms/step - loss: 0.1034 - val_loss: 0.1019\n",
            "Epoch 11/50\n",
            "469/469 [==============================] - 59s 126ms/step - loss: 0.1023 - val_loss: 0.1008\n",
            "Epoch 12/50\n",
            "469/469 [==============================] - 59s 125ms/step - loss: 0.1013 - val_loss: 0.0998\n",
            "Epoch 13/50\n",
            "469/469 [==============================] - 59s 126ms/step - loss: 0.1005 - val_loss: 0.0988\n",
            "Epoch 14/50\n",
            "469/469 [==============================] - 61s 131ms/step - loss: 0.0998 - val_loss: 0.0983\n",
            "Epoch 15/50\n",
            "469/469 [==============================] - 59s 126ms/step - loss: 0.0991 - val_loss: 0.0979\n",
            "Epoch 16/50\n",
            "469/469 [==============================] - 59s 125ms/step - loss: 0.0985 - val_loss: 0.0970\n",
            "Epoch 17/50\n",
            "469/469 [==============================] - 59s 125ms/step - loss: 0.0980 - val_loss: 0.0967\n",
            "Epoch 18/50\n",
            "469/469 [==============================] - 59s 126ms/step - loss: 0.0975 - val_loss: 0.0960\n",
            "Epoch 19/50\n",
            "469/469 [==============================] - 59s 126ms/step - loss: 0.0971 - val_loss: 0.0957\n",
            "Epoch 20/50\n",
            "469/469 [==============================] - 62s 131ms/step - loss: 0.0966 - val_loss: 0.0954\n",
            "Epoch 21/50\n",
            "469/469 [==============================] - 61s 131ms/step - loss: 0.0963 - val_loss: 0.0951\n",
            "Epoch 22/50\n",
            "469/469 [==============================] - 60s 128ms/step - loss: 0.0960 - val_loss: 0.0951\n",
            "Epoch 23/50\n",
            "469/469 [==============================] - 60s 128ms/step - loss: 0.0957 - val_loss: 0.0946\n",
            "Epoch 24/50\n",
            "469/469 [==============================] - 60s 128ms/step - loss: 0.0954 - val_loss: 0.0942\n",
            "Epoch 25/50\n",
            "469/469 [==============================] - 60s 127ms/step - loss: 0.0952 - val_loss: 0.0938\n",
            "Epoch 26/50\n",
            "469/469 [==============================] - 59s 127ms/step - loss: 0.0949 - val_loss: 0.0936\n",
            "Epoch 27/50\n",
            "469/469 [==============================] - 59s 127ms/step - loss: 0.0947 - val_loss: 0.0934\n",
            "Epoch 28/50\n",
            "469/469 [==============================] - 60s 127ms/step - loss: 0.0944 - val_loss: 0.0933\n",
            "Epoch 29/50\n",
            "469/469 [==============================] - 60s 127ms/step - loss: 0.0942 - val_loss: 0.0930\n",
            "Epoch 30/50\n",
            "469/469 [==============================] - 62s 131ms/step - loss: 0.0940 - val_loss: 0.0928\n",
            "Epoch 31/50\n",
            "469/469 [==============================] - 59s 126ms/step - loss: 0.0938 - val_loss: 0.0927\n",
            "Epoch 32/50\n",
            "469/469 [==============================] - 60s 127ms/step - loss: 0.0936 - val_loss: 0.0925\n",
            "Epoch 33/50\n",
            "469/469 [==============================] - 59s 127ms/step - loss: 0.0935 - val_loss: 0.0921\n",
            "Epoch 34/50\n",
            "469/469 [==============================] - 59s 126ms/step - loss: 0.0934 - val_loss: 0.0922\n",
            "Epoch 35/50\n",
            "469/469 [==============================] - 59s 126ms/step - loss: 0.0931 - val_loss: 0.0920\n",
            "Epoch 36/50\n",
            "469/469 [==============================] - 61s 130ms/step - loss: 0.0930 - val_loss: 0.0920\n",
            "Epoch 37/50\n",
            "469/469 [==============================] - 61s 129ms/step - loss: 0.0929 - val_loss: 0.0919\n",
            "Epoch 38/50\n",
            "469/469 [==============================] - 60s 127ms/step - loss: 0.0927 - val_loss: 0.0926\n",
            "Epoch 39/50\n",
            "469/469 [==============================] - 60s 127ms/step - loss: 0.0926 - val_loss: 0.0914\n",
            "Epoch 40/50\n",
            "469/469 [==============================] - 61s 130ms/step - loss: 0.0925 - val_loss: 0.0920\n",
            "Epoch 41/50\n",
            "469/469 [==============================] - 60s 128ms/step - loss: 0.0924 - val_loss: 0.0915\n",
            "Epoch 42/50\n",
            "469/469 [==============================] - 60s 129ms/step - loss: 0.0923 - val_loss: 0.0912\n",
            "Epoch 43/50\n",
            "469/469 [==============================] - 60s 128ms/step - loss: 0.0921 - val_loss: 0.0909\n",
            "Epoch 44/50\n",
            "469/469 [==============================] - 62s 132ms/step - loss: 0.0921 - val_loss: 0.0908\n",
            "Epoch 45/50\n",
            "469/469 [==============================] - 61s 130ms/step - loss: 0.0919 - val_loss: 0.0907\n",
            "Epoch 46/50\n",
            "469/469 [==============================] - 60s 129ms/step - loss: 0.0919 - val_loss: 0.0913\n",
            "Epoch 47/50\n",
            "469/469 [==============================] - 60s 129ms/step - loss: 0.0918 - val_loss: 0.0910\n",
            "Epoch 48/50\n",
            "469/469 [==============================] - 60s 128ms/step - loss: 0.0917 - val_loss: 0.0906\n",
            "Epoch 49/50\n",
            "469/469 [==============================] - 59s 127ms/step - loss: 0.0916 - val_loss: 0.0905\n",
            "Epoch 50/50\n",
            "469/469 [==============================] - 59s 127ms/step - loss: 0.0915 - val_loss: 0.0903\n"
          ]
        },
        {
          "output_type": "execute_result",
          "data": {
            "text/plain": [
              "<keras.callbacks.History at 0x7fd09ce7f490>"
            ]
          },
          "metadata": {},
          "execution_count": 17
        }
      ]
    },
    {
      "cell_type": "code",
      "source": [
        "decoded_imgs = autoencoder.predict(x_test)\n",
        "\n",
        "n = 10\n",
        "plt.figure(figsize=(20, 4))\n",
        "for i in range(1, n + 1):\n",
        "    # Display original\n",
        "    ax = plt.subplot(2, n, i)\n",
        "    plt.imshow(x_test[i].reshape(28, 28))\n",
        "    plt.gray()\n",
        "    ax.get_xaxis().set_visible(False)\n",
        "    ax.get_yaxis().set_visible(False)\n",
        "\n",
        "    # Display reconstruction\n",
        "    ax = plt.subplot(2, n, i + n)\n",
        "    plt.imshow(decoded_imgs[i].reshape(28, 28))\n",
        "    plt.gray()\n",
        "    ax.get_xaxis().set_visible(False)\n",
        "    ax.get_yaxis().set_visible(False)\n",
        "plt.show()"
      ],
      "metadata": {
        "id": "yKLfTn7NPQXS"
      },
      "execution_count": null,
      "outputs": []
    },
    {
      "cell_type": "code",
      "source": [
        "encoder = keras.Model(input_img, encoded)\n",
        "encoded_imgs = encoder.predict(x_test)\n",
        "\n",
        "n = 10\n",
        "plt.figure(figsize=(20, 8))\n",
        "for i in range(1, n + 1):\n",
        "    ax = plt.subplot(1, n, i)\n",
        "    plt.imshow(encoded_imgs[i].reshape((4, 4 * 8)).T)\n",
        "    plt.gray()\n",
        "    ax.get_xaxis().set_visible(False)\n",
        "    ax.get_yaxis().set_visible(False)\n",
        "plt.show()"
      ],
      "metadata": {
        "id": "VOn-_tvNPSnI"
      },
      "execution_count": null,
      "outputs": []
    },
    {
      "cell_type": "code",
      "source": [
        "from keras.datasets import mnist\n",
        "import numpy as np\n",
        "\n",
        "(x_train, _), (x_test, _) = mnist.load_data()\n",
        "\n",
        "x_train = x_train.astype('float32') / 255.\n",
        "x_test = x_test.astype('float32') / 255.\n",
        "x_train = np.reshape(x_train, (len(x_train), 28, 28, 1))\n",
        "x_test = np.reshape(x_test, (len(x_test), 28, 28, 1))\n",
        "\n",
        "noise_factor = 0.5\n",
        "x_train_noisy = x_train + noise_factor * np.random.normal(loc=0.0, scale=1.0, size=x_train.shape)\n",
        "x_test_noisy = x_test + noise_factor * np.random.normal(loc=0.0, scale=1.0, size=x_test.shape)\n",
        "\n",
        "x_train_noisy = np.clip(x_train_noisy, 0., 1.)\n",
        "x_test_noisy = np.clip(x_test_noisy, 0., 1.)"
      ],
      "metadata": {
        "id": "y_PqLioOPVF3"
      },
      "execution_count": null,
      "outputs": []
    },
    {
      "cell_type": "code",
      "source": [
        "n = 10\n",
        "plt.figure(figsize=(20, 2))\n",
        "for i in range(1, n + 1):\n",
        "    ax = plt.subplot(1, n, i)\n",
        "    plt.imshow(x_test_noisy[i].reshape(28, 28))\n",
        "    plt.gray()\n",
        "    ax.get_xaxis().set_visible(False)\n",
        "    ax.get_yaxis().set_visible(False)\n",
        "plt.show()"
      ],
      "metadata": {
        "id": "cy05ZZy9PXd1"
      },
      "execution_count": null,
      "outputs": []
    },
    {
      "cell_type": "code",
      "source": [
        "input_img = keras.Input(shape=(28, 28, 1))\n",
        "\n",
        "x = layers.Conv2D(32, (3, 3), activation='relu', padding='same')(input_img)\n",
        "x = layers.MaxPooling2D((2, 2), padding='same')(x)\n",
        "x = layers.Conv2D(32, (3, 3), activation='relu', padding='same')(x)\n",
        "encoded = layers.MaxPooling2D((2, 2), padding='same')(x)\n",
        "\n",
        "# At this point the representation is (7, 7, 32)\n",
        "\n",
        "x = layers.Conv2D(32, (3, 3), activation='relu', padding='same')(encoded)\n",
        "x = layers.UpSampling2D((2, 2))(x)\n",
        "x = layers.Conv2D(32, (3, 3), activation='relu', padding='same')(x)\n",
        "x = layers.UpSampling2D((2, 2))(x)\n",
        "decoded = layers.Conv2D(1, (3, 3), activation='sigmoid', padding='same')(x)\n",
        "\n",
        "autoencoder = keras.Model(input_img, decoded)\n",
        "autoencoder.compile(optimizer='adam', loss='binary_crossentropy')"
      ],
      "metadata": {
        "id": "KWS-iRfyPZ99"
      },
      "execution_count": null,
      "outputs": []
    },
    {
      "cell_type": "code",
      "source": [
        "autoencoder.fit(x_train_noisy, x_train,\n",
        "                epochs=100,\n",
        "                batch_size=128,\n",
        "                shuffle=True,\n",
        "                validation_data=(x_test_noisy, x_test),\n",
        "                callbacks=[TensorBoard(log_dir='/tmp/tb', histogram_freq=0, write_graph=False)])"
      ],
      "metadata": {
        "id": "LohOgz5VPckg"
      },
      "execution_count": null,
      "outputs": []
    },
    {
      "cell_type": "code",
      "source": [
        "autoencoder.fit(x_train_noisy, x_train,\n",
        "                epochs=100,\n",
        "                batch_size=128,\n",
        "                shuffle=True,\n",
        "                validation_data=(x_test_noisy, x_test),\n",
        "                callbacks=[TensorBoard(log_dir='/tmp/tb', histogram_freq=0, write_graph=False)])"
      ],
      "metadata": {
        "id": "iH2kTGHiPfhk"
      },
      "execution_count": null,
      "outputs": []
    },
    {
      "cell_type": "code",
      "source": [
        "timesteps = ...  # Length of your sequences\n",
        "input_dim = ...\n",
        "latent_dim = ...\n",
        "\n",
        "inputs = keras.Input(shape=(timesteps, input_dim))\n",
        "encoded = layers.LSTM(latent_dim)(inputs)\n",
        "\n",
        "decoded = layers.RepeatVector(timesteps)(encoded)\n",
        "decoded = layers.LSTM(input_dim, return_sequences=True)(decoded)\n",
        "\n",
        "sequence_autoencoder = keras.Model(inputs, decoded)\n",
        "encoder = keras.Model(inputs, encoded)"
      ],
      "metadata": {
        "id": "dA5odOV3PiJk"
      },
      "execution_count": null,
      "outputs": []
    },
    {
      "cell_type": "code",
      "source": [
        "original_dim = 28 * 28\n",
        "intermediate_dim = 64\n",
        "latent_dim = 2\n",
        "\n",
        "inputs = keras.Input(shape=(original_dim,))\n",
        "h = layers.Dense(intermediate_dim, activation='relu')(inputs)\n",
        "z_mean = layers.Dense(latent_dim)(h)\n",
        "z_log_sigma = layers.Dense(latent_dim)(h)"
      ],
      "metadata": {
        "id": "2UdD2EI2PkOT"
      },
      "execution_count": null,
      "outputs": []
    },
    {
      "cell_type": "code",
      "source": [
        "from keras import backend as K\n",
        "\n",
        "def sampling(args):\n",
        "    z_mean, z_log_sigma = args\n",
        "    epsilon = K.random_normal(shape=(K.shape(z_mean)[0], latent_dim),\n",
        "                              mean=0., stddev=0.1)\n",
        "    return z_mean + K.exp(z_log_sigma) * epsilon\n",
        "\n",
        "z = layers.Lambda(sampling)([z_mean, z_log_sigma])"
      ],
      "metadata": {
        "id": "BzG7jfpoPmQR"
      },
      "execution_count": null,
      "outputs": []
    },
    {
      "cell_type": "code",
      "source": [
        "# Create encoder\n",
        "encoder = keras.Model(inputs, [z_mean, z_log_sigma, z], name='encoder')\n",
        "\n",
        "# Create decoder\n",
        "latent_inputs = keras.Input(shape=(latent_dim,), name='z_sampling')\n",
        "x = layers.Dense(intermediate_dim, activation='relu')(latent_inputs)\n",
        "outputs = layers.Dense(original_dim, activation='sigmoid')(x)\n",
        "decoder = keras.Model(latent_inputs, outputs, name='decoder')\n",
        "\n",
        "# instantiate VAE model\n",
        "outputs = decoder(encoder(inputs)[2])\n",
        "vae = keras.Model(inputs, outputs, name='vae_mlp')"
      ],
      "metadata": {
        "id": "mRPH_CKkPoZq"
      },
      "execution_count": null,
      "outputs": []
    },
    {
      "cell_type": "code",
      "source": [
        "reconstruction_loss = keras.losses.binary_crossentropy(inputs, outputs)\n",
        "reconstruction_loss *= original_dim\n",
        "kl_loss = 1 + z_log_sigma - K.square(z_mean) - K.exp(z_log_sigma)\n",
        "kl_loss = K.sum(kl_loss, axis=-1)\n",
        "kl_loss *= -0.5\n",
        "vae_loss = K.mean(reconstruction_loss + kl_loss)\n",
        "vae.add_loss(vae_loss)\n",
        "vae.compile(optimizer='adam')"
      ],
      "metadata": {
        "id": "6VEmxZpYPsCY"
      },
      "execution_count": null,
      "outputs": []
    },
    {
      "cell_type": "code",
      "source": [
        "(x_train, y_train), (x_test, y_test) = mnist.load_data()\n",
        "\n",
        "x_train = x_train.astype('float32') / 255.\n",
        "x_test = x_test.astype('float32') / 255.\n",
        "x_train = x_train.reshape((len(x_train), np.prod(x_train.shape[1:])))\n",
        "x_test = x_test.reshape((len(x_test), np.prod(x_test.shape[1:])))\n",
        "\n",
        "vae.fit(x_train, x_train,\n",
        "        epochs=100,\n",
        "        batch_size=32,\n",
        "        validation_data=(x_test, x_test))"
      ],
      "metadata": {
        "id": "uvOJadHQPt-a"
      },
      "execution_count": null,
      "outputs": []
    },
    {
      "cell_type": "code",
      "source": [
        "x_test_encoded = encoder.predict(x_test, batch_size=batch_size)\n",
        "plt.figure(figsize=(6, 6))\n",
        "plt.scatter(x_test_encoded[:, 0], x_test_encoded[:, 1], c=y_test)\n",
        "plt.colorbar()\n",
        "plt.show()"
      ],
      "metadata": {
        "id": "-HBYPn0MPvsR"
      },
      "execution_count": null,
      "outputs": []
    },
    {
      "cell_type": "code",
      "source": [
        "# Display a 2D manifold of the digits\n",
        "n = 15  # figure with 15x15 digits\n",
        "digit_size = 28\n",
        "figure = np.zeros((digit_size * n, digit_size * n))\n",
        "# We will sample n points within [-15, 15] standard deviations\n",
        "grid_x = np.linspace(-15, 15, n)\n",
        "grid_y = np.linspace(-15, 15, n)\n",
        "\n",
        "for i, yi in enumerate(grid_x):\n",
        "    for j, xi in enumerate(grid_y):\n",
        "        z_sample = np.array([[xi, yi]])\n",
        "        x_decoded = decoder.predict(z_sample)\n",
        "        digit = x_decoded[0].reshape(digit_size, digit_size)\n",
        "        figure[i * digit_size: (i + 1) * digit_size,\n",
        "               j * digit_size: (j + 1) * digit_size] = digit\n",
        "\n",
        "plt.figure(figsize=(10, 10))\n",
        "plt.imshow(figure)\n",
        "plt.show()"
      ],
      "metadata": {
        "id": "E239pq9RPxtN"
      },
      "execution_count": null,
      "outputs": []
    }
  ]
}